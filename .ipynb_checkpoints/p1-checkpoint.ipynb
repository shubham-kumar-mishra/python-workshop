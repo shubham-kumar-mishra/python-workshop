{
 "cells": [
  {
   "cell_type": "code",
   "execution_count": 7,
   "id": "c55527be-8165-4d8d-abe5-325e3da664df",
   "metadata": {},
   "outputs": [
    {
     "name": "stdout",
     "output_type": "stream",
     "text": [
      "hello topper\n"
     ]
    }
   ],
   "source": [
    "print('hello topper')"
   ]
  },
  {
   "cell_type": "code",
   "execution_count": 10,
   "id": "218e680f-19fc-4dcb-88dc-51bbb60713ad",
   "metadata": {},
   "outputs": [
    {
     "name": "stdout",
     "output_type": "stream",
     "text": [
      "6\n",
      "6.7\n",
      "shubham\n",
      "True\n",
      "<class 'int'>\n",
      "<class 'float'>\n",
      "<class 'str'>\n",
      "<class 'bool'>\n"
     ]
    }
   ],
   "source": [
    "a=6\n",
    "b=6.7\n",
    "c='shubham'\n",
    "d=True\n",
    "print(a)\n",
    "print(b)\n",
    "print(c)\n",
    "print(d)\n",
    "print(type(a))\n",
    "print(type(b))\n",
    "print(type(c))\n",
    "print(type(d))"
   ]
  },
  {
   "cell_type": "code",
   "execution_count": 18,
   "id": "f1cadf92-c746-4c39-98ab-497a23d65d80",
   "metadata": {
    "jp-MarkdownHeadingCollapsed": true,
    "tags": []
   },
   "outputs": [
    {
     "name": "stdin",
     "output_type": "stream",
     "text": [
      "enter the value of a: 9.0\n",
      "entert the value of b: 0.15\n"
     ]
    },
    {
     "name": "stdout",
     "output_type": "stream",
     "text": [
      "9.15\n"
     ]
    }
   ],
   "source": [
    "#data types\n",
    "a=float(input('enter the value of a:'))\n",
    "b=float(input('entert the value of b:'))\n",
    "c=a+b\n",
    "print(c)"
   ]
  },
  {
   "cell_type": "code",
   "execution_count": 21,
   "id": "149dbd20-0d7d-4cea-b576-48895dbb7a5f",
   "metadata": {},
   "outputs": [
    {
     "data": {
      "text/plain": [
       "2169362999792"
      ]
     },
     "execution_count": 21,
     "metadata": {},
     "output_type": "execute_result"
    }
   ],
   "source": [
    "#data structuure\n",
    "#address of memory\n",
    "a=7\n",
    "id(a)"
   ]
  },
  {
   "cell_type": "code",
   "execution_count": 27,
   "id": "d7850626-756d-417f-a3a7-4a4ca08423f6",
   "metadata": {},
   "outputs": [
    {
     "name": "stdout",
     "output_type": "stream",
     "text": [
      "[1, 2, 3, 4, 5]\n",
      "<class 'list'>\n",
      "2169460741248\n"
     ]
    }
   ],
   "source": [
    "#data structuure\n",
    "#creating a list\n",
    "l1=[1,2,3,4,5]\n",
    "print(l1)\n",
    "print(type(l1))\n",
    "print(id(l1))"
   ]
  },
  {
   "cell_type": "code",
   "execution_count": 35,
   "id": "56bdcb74-84ed-4522-b26a-78da173ce94b",
   "metadata": {},
   "outputs": [
    {
     "name": "stdout",
     "output_type": "stream",
     "text": [
      "[1, 6, 6, 6, 6, 6]\n",
      "2169460741248\n"
     ]
    }
   ],
   "source": [
    "#list\n",
    "#shift+tab for knowing the inbuit funcion of list\n",
    "l1.append(6)\n",
    "l1.pop(1)\n",
    "print(l1)\n",
    "print(id(l1))"
   ]
  },
  {
   "cell_type": "code",
   "execution_count": 39,
   "id": "cf81986c-80df-407f-b5df-af06936b4b01",
   "metadata": {},
   "outputs": [
    {
     "name": "stdout",
     "output_type": "stream",
     "text": [
      "{'name': 'shubham mishra', 'cgpa': 9.15}\n",
      "<class 'dict'>\n"
     ]
    }
   ],
   "source": [
    "#dictionary\n",
    "data={'name':'shubham mishra','cgpa':9.15}\n",
    "print(data)\n",
    "print(type(data))"
   ]
  },
  {
   "cell_type": "code",
   "execution_count": 48,
   "id": "20c7fb4b-b2ad-48fe-a97c-52b807ba81a6",
   "metadata": {},
   "outputs": [
    {
     "name": "stdout",
     "output_type": "stream",
     "text": [
      "shubham mishra\n"
     ]
    }
   ],
   "source": [
    "print(data['name'])"
   ]
  },
  {
   "cell_type": "code",
   "execution_count": 54,
   "id": "793e79e2-7127-4c3c-9e9e-9f86317dece2",
   "metadata": {},
   "outputs": [
    {
     "name": "stdout",
     "output_type": "stream",
     "text": [
      "{1, 2, 9} {8, 5, 6, 7}\n",
      "<class 'set'>\n"
     ]
    }
   ],
   "source": [
    "#set\n",
    "s1={1,2,9,9}\n",
    "s2={5,6,7,8}\n",
    "print(s1,s2)\n",
    "print(type(s1))"
   ]
  },
  {
   "cell_type": "code",
   "execution_count": 56,
   "id": "ab47ae07-e2b8-405b-a6aa-c010bba5e0ff",
   "metadata": {},
   "outputs": [
    {
     "data": {
      "text/plain": [
       "{1, 2, 5, 6, 7, 8, 9}"
      ]
     },
     "execution_count": 56,
     "metadata": {},
     "output_type": "execute_result"
    }
   ],
   "source": [
    "s1.union(s2)"
   ]
  },
  {
   "cell_type": "code",
   "execution_count": 62,
   "id": "c1a0dc73-51be-450a-8153-c1487189c408",
   "metadata": {},
   "outputs": [
    {
     "name": "stdin",
     "output_type": "stream",
     "text": [
      "enter the principle amount: 2000\n",
      "enter the rate: 4\n",
      "enter the time: 200\n"
     ]
    },
    {
     "data": {
      "text/plain": [
       "[16000.0, 18000.0]"
      ]
     },
     "execution_count": 62,
     "metadata": {},
     "output_type": "execute_result"
    }
   ],
   "source": [
    "#function simple interest\n",
    "def simpleinterest(p, r, t):\n",
    "    return [(p*r*t)/100,(p+(p*r*t)/100)]#[interest,amount]\n",
    "p=float(input('enter the principle amount:'))\n",
    "r=float(input('enter the rate:'))\n",
    "t=float(input('enter the time:'))\n",
    "simpleinterest(p,r,t)\n"
   ]
  },
  {
   "cell_type": "code",
   "execution_count": 64,
   "id": "e60cb6d5-c9e7-4f17-a5e5-032131e2baf5",
   "metadata": {},
   "outputs": [
    {
     "name": "stdin",
     "output_type": "stream",
     "text": [
      "enter the base: 20\n",
      "enter the height: 10\n"
     ]
    },
    {
     "data": {
      "text/plain": [
       "100.0"
      ]
     },
     "execution_count": 64,
     "metadata": {},
     "output_type": "execute_result"
    }
   ],
   "source": [
    "#area of triangle\n",
    "def areatriangle(b,h):\n",
    "    return (0.5*b*h)\n",
    "b=float(input('enter the base:'))\n",
    "h=float(input('enter the height:'))\n",
    "areatriangle(b,h)"
   ]
  },
  {
   "cell_type": "code",
   "execution_count": 66,
   "id": "d8d92b9b-7e72-4d4b-8da9-578887832f85",
   "metadata": {},
   "outputs": [
    {
     "data": {
      "text/plain": [
       "24.0"
      ]
     },
     "execution_count": 66,
     "metadata": {},
     "output_type": "execute_result"
    }
   ],
   "source": [
    "areatriangle(8,6)"
   ]
  },
  {
   "cell_type": "code",
   "execution_count": 89,
   "id": "c0d19e78-e43c-4163-8a2b-9e4b89c605b3",
   "metadata": {},
   "outputs": [
    {
     "name": "stdout",
     "output_type": "stream",
     "text": [
      "1\n",
      "3\n",
      "5\n",
      "7\n",
      "9\n"
     ]
    }
   ],
   "source": [
    "#loop\n",
    "for i in range(1,11,2):\n",
    "    print(i)"
   ]
  },
  {
   "cell_type": "code",
   "execution_count": 101,
   "id": "a6070019-7cf4-4e6d-90c0-0b9f9d971e8b",
   "metadata": {},
   "outputs": [
    {
     "name": "stdin",
     "output_type": "stream",
     "text": [
      "enter the age: 5\n"
     ]
    },
    {
     "name": "stdout",
     "output_type": "stream",
     "text": [
      "not eligible for voting\n"
     ]
    }
   ],
   "source": [
    "#conditional statement\n",
    "try:\n",
    "    age=int(input('enter the age:'))\n",
    "    if(age<18):\n",
    "        print('not eligible for voting')\n",
    "    elif(age>80):\n",
    "        print('take rest')\n",
    "    else:\n",
    "       print('eligible for voting')\n",
    "except:\n",
    "    print('invalid input')\n",
    "    "
   ]
  },
  {
   "cell_type": "code",
   "execution_count": 108,
   "id": "87ada667-a7e6-4c69-b22b-40de441f380f",
   "metadata": {},
   "outputs": [
    {
     "name": "stdin",
     "output_type": "stream",
     "text": [
      " 25\n"
     ]
    },
    {
     "name": "stdout",
     "output_type": "stream",
     "text": [
      "FAIL\n"
     ]
    }
   ],
   "source": [
    "marks=int(input())\n",
    "if marks >= 90:\n",
    "    print('A')\n",
    "elif marks>=80:\n",
    "    print('B')\n",
    "elif marks>=70:\n",
    "    print('C')\n",
    "elif marks>=60:\n",
    "    print('D')\n",
    "elif marks<=33:\n",
    "    print('FAIL')\n",
    "else:\n",
    "    print('F')\n"
   ]
  },
  {
   "cell_type": "code",
   "execution_count": 111,
   "id": "258ea4b9-0237-42f9-accc-3612c4bb5249",
   "metadata": {},
   "outputs": [
    {
     "name": "stdin",
     "output_type": "stream",
     "text": [
      "enter the age: 65\n"
     ]
    },
    {
     "name": "stdout",
     "output_type": "stream",
     "text": [
      " enter gender F/M :\n"
     ]
    },
    {
     "name": "stdin",
     "output_type": "stream",
     "text": [
      " M\n"
     ]
    },
    {
     "name": "stdout",
     "output_type": "stream",
     "text": [
      "go to male queue\n"
     ]
    }
   ],
   "source": [
    "age=int(input('enter the age:'))\n",
    "if age>=18:\n",
    "    print(' enter gender F/M :')\n",
    "    gender=input()\n",
    "    if(gender=='F'):\n",
    "        print('go to  female queue')\n",
    "    else:\n",
    "        print('go to male queue')\n",
    "else:\n",
    "    print('not eligible for voting')\n",
    "    "
   ]
  },
  {
   "cell_type": "code",
   "execution_count": 120,
   "id": "00ff07be-f340-4c38-8640-58f5e5242b87",
   "metadata": {},
   "outputs": [
    {
     "name": "stdout",
     "output_type": "stream",
     "text": [
      "15\n",
      "30\n",
      "45\n",
      "60\n",
      "75\n",
      "90\n",
      "105\n",
      "120\n",
      "135\n",
      "150\n",
      "165\n",
      "180\n",
      "195\n"
     ]
    }
   ],
   "source": [
    "#program for printing number divisible by both 3 and 5\n",
    "for i in range(1,201):\n",
    "    if(i%3==0 and i%5==0):\n",
    "        print(i)"
   ]
  },
  {
   "cell_type": "code",
   "execution_count": 123,
   "id": "20588525-43d8-455b-bd2a-ebbf3b06675e",
   "metadata": {},
   "outputs": [
    {
     "name": "stdin",
     "output_type": "stream",
     "text": [
      " 5\n",
      " 5\n"
     ]
    },
    {
     "name": "stdout",
     "output_type": "stream",
     "text": [
      "hcf of a and b is : 5\n"
     ]
    }
   ],
   "source": [
    "def hcf(a,b):\n",
    "    if a>b:\n",
    "        smaller =b\n",
    "    else:\n",
    "        smaller=a\n",
    "    for i in range(1,smaller+1):\n",
    "        if a%i==0 and b%i==0:\n",
    "            hcf=i\n",
    "    return hcf\n",
    "a=int(input())\n",
    "b=int(input())\n",
    "print('hcf of a and b is :',hcf(a,b))"
   ]
  },
  {
   "cell_type": "code",
   "execution_count": 127,
   "id": "0eee9cd5-e072-449d-9290-de1616ff9526",
   "metadata": {},
   "outputs": [
    {
     "name": "stdin",
     "output_type": "stream",
     "text": [
      " 25\n",
      " 50\n"
     ]
    },
    {
     "name": "stdout",
     "output_type": "stream",
     "text": [
      "lcm of a and b is : 50\n"
     ]
    }
   ],
   "source": [
    "def lcm(a,b):\n",
    "    if a<b:\n",
    "        larger =b\n",
    "    else:\n",
    "        larger=a\n",
    "    while(True):\n",
    "        if larger %a==0 and larger % b==0:\n",
    "            lcm=larger\n",
    "            break\n",
    "        larger+=1\n",
    "    return lcm\n",
    "a=int(input())\n",
    "b=int(input())\n",
    "print('lcm of a and b is :',lcm(a,b))"
   ]
  },
  {
   "cell_type": "code",
   "execution_count": 130,
   "id": "d08dedc4-3e07-4946-a505-f724fed856c4",
   "metadata": {},
   "outputs": [
    {
     "name": "stdin",
     "output_type": "stream",
     "text": [
      " 5\n"
     ]
    },
    {
     "name": "stdout",
     "output_type": "stream",
     "text": [
      "factorial of a is: 120\n"
     ]
    }
   ],
   "source": [
    "#factorial of a number\n",
    "def factorial(a):\n",
    "    if a==0:\n",
    "        return 1\n",
    "    else:\n",
    "        return a*factorial(a-1)\n",
    "a=int(input())\n",
    "print('factorial of a is:',factorial(a))\n",
    "        "
   ]
  },
  {
   "cell_type": "code",
   "execution_count": 134,
   "id": "0186185c-bb9c-4439-a597-b9f85c5b77f0",
   "metadata": {},
   "outputs": [
    {
     "name": "stdin",
     "output_type": "stream",
     "text": [
      " 25\n"
     ]
    },
    {
     "name": "stdout",
     "output_type": "stream",
     "text": [
      "not found\n"
     ]
    }
   ],
   "source": [
    "#search item in list\n",
    "l1=[1,2,3,4,5,6,7,8,9]\n",
    "a=int(input())\n",
    "if a in l1:\n",
    "    print('found')\n",
    "else:\n",
    "    print('not found')\n",
    "    "
   ]
  },
  {
   "cell_type": "code",
   "execution_count": 152,
   "id": "d2b98fb5-302e-4f64-9f7e-d081581f0717",
   "metadata": {},
   "outputs": [
    {
     "name": "stdin",
     "output_type": "stream",
     "text": [
      " 4\n"
     ]
    },
    {
     "name": "stdout",
     "output_type": "stream",
     "text": [
      "* # * # \n",
      "* # * # \n",
      "* # * # \n",
      "* # * # \n"
     ]
    }
   ],
   "source": [
    "#### pattern\n",
    "n=int(input())\n",
    "for i in range(1,n+1):\n",
    "    for j in range(1,n+1):\n",
    "        if(j%2==0):\n",
    "            print('#', end=\" \")\n",
    "        else:\n",
    "            print('*',end=\" \")\n",
    "    print()"
   ]
  },
  {
   "cell_type": "code",
   "execution_count": 154,
   "id": "e58d0ab1-011a-4dfd-b136-a8ce6b3ebed3",
   "metadata": {},
   "outputs": [
    {
     "name": "stdin",
     "output_type": "stream",
     "text": [
      " 4\n"
     ]
    },
    {
     "name": "stdout",
     "output_type": "stream",
     "text": [
      "* * * * \n",
      "* * * * \n",
      "* * * * \n",
      "* * * * \n"
     ]
    }
   ],
   "source": [
    "n=int(input())\n",
    "for i in range(1,n+1):\n",
    "    for j in range(1,n+1):\n",
    "         print('*',end=\" \")\n",
    "    print()"
   ]
  },
  {
   "cell_type": "code",
   "execution_count": 202,
   "id": "7189cdf4-ab8d-4e97-8a01-e5d05603f279",
   "metadata": {},
   "outputs": [
    {
     "name": "stdout",
     "output_type": "stream",
     "text": [
      "Milind is sleeping\n",
      "Milind is eating\n"
     ]
    }
   ],
   "source": [
    "#classes and objects\n",
    "class Shubham:\n",
    "    name=' '\n",
    "    age=0\n",
    "    def __init__(self, name, age) :\n",
    "        self.name = name\n",
    "        self.age = age\n",
    "    def sleep(self):\n",
    "        print(self.name, 'is sleeping')\n",
    "    def eat(self):\n",
    "        print(self.name,'is eating')\n",
    "a=Shubham('Milind',75)\n",
    "a.sleep()\n",
    "a.eat()"
   ]
  },
  {
   "cell_type": "code",
   "execution_count": 203,
   "id": "8e3b7f7f-9dfc-4016-9b1d-3a6ee2dd17b8",
   "metadata": {},
   "outputs": [
    {
     "name": "stdout",
     "output_type": "stream",
     "text": [
      "BMW is started\n",
      "BMW is stopped\n",
      "BMW is driving\n",
      "BMW is refueling\n"
     ]
    }
   ],
   "source": [
    "class Car:\n",
    "    def __init__(self, model, price, mileage):\n",
    "        self.model = model\n",
    "        self.price = price\n",
    "        self.mileage = mileage\n",
    "    def start(self):\n",
    "        print('{0} is started'.format(self.model))\n",
    "    def stop(self):\n",
    "        print('{0} is stopped'.format(self.model))\n",
    "    def drive(self):\n",
    "        print('{0} is driving'.format(self.model))\n",
    "    def refuel(self):\n",
    "        print('{0} is refueling'.format(self.model))\n",
    "\n",
    "c = Car('BMW', '$100,000', '100kmpl')\n",
    "c.start()\n",
    "c.stop()\n",
    "c.drive()\n",
    "c.refuel()"
   ]
  }
 ],
 "metadata": {
  "kernelspec": {
   "display_name": "Python 3 (ipykernel)",
   "language": "python",
   "name": "python3"
  },
  "language_info": {
   "codemirror_mode": {
    "name": "ipython",
    "version": 3
   },
   "file_extension": ".py",
   "mimetype": "text/x-python",
   "name": "python",
   "nbconvert_exporter": "python",
   "pygments_lexer": "ipython3",
   "version": "3.9.7"
  }
 },
 "nbformat": 4,
 "nbformat_minor": 5
}
